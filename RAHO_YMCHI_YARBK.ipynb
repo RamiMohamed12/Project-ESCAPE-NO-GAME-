{
 "cells": [
  {
   "cell_type": "code",
   "execution_count": 2,
   "id": "acc5289e-1f87-47d2-b99e-e50d24496f97",
   "metadata": {},
   "outputs": [
    {
     "name": "stdout",
     "output_type": "stream",
     "text": [
      "Enregistrement audio en cours...\n",
      "L'enregistrement a été sauvegardé dans enregistrement.wav\n"
     ]
    }
   ],
   "source": [
    "import sounddevice as sd\n",
    "import numpy as np\n",
    "from scipy.io.wavfile import write\n",
    "\n",
    "# Définir les paramètres d'enregistrement audio\n",
    "freq_echantillonnage = 44100  # Fréquence d'échantillonnage en Hz\n",
    "duree_enregistrement = 2 # Durée de l'enregistrement en secondes\n",
    "\n",
    "# Enregistrement audio\n",
    "print(\"Enregistrement audio en cours...\")\n",
    "enregistrement = sd.rec(int(freq_echantillonnage * duree_enregistrement), samplerate=freq_echantillonnage, channels=2, dtype=np.int16)\n",
    "sd.wait()  # Attendre la fin de l'enregistrement\n",
    "\n",
    "# Sauvegarder l'enregistrement audio dans un fichier WAV\n",
    "nom_fichier_sortie = \"enregistrement.wav\"\n",
    "write(nom_fichier_sortie, freq_echantillonnage, enregistrement)\n",
    "\n",
    "print(f\"L'enregistrement a été sauvegardé dans {nom_fichier_sortie}\")\n"
   ]
  },
  {
   "cell_type": "code",
   "execution_count": 3,
   "id": "767649b4-3d33-4af1-b155-31ef63c10d49",
   "metadata": {},
   "outputs": [
    {
     "name": "stdout",
     "output_type": "stream",
     "text": [
      "L'enregistrement modulé avec CRC a été sauvegardé dans enregistrement_module_ask_crc.wav\n",
      "Lecture de l'enregistrement modulé avec CRC...\n",
      "Lecture terminée. Vous pouvez écouter l'enregistrement modulé avec CRC.\n"
     ]
    }
   ],
   "source": [
    "import sounddevice as sd\n",
    "import numpy as np\n",
    "from scipy.io.wavfile import read, write\n",
    "import crcmod.predefined\n",
    "\n",
    "# Charger l'enregistrement audio depuis le fichier WAV\n",
    "nom_fichier_entree = \"enregistrement.wav\"\n",
    "freq_echantillonnage, enregistrement = read(nom_fichier_entree)\n",
    "\n",
    "# ASK modulation (binary)\n",
    "modulated_signal = enregistrement.flatten() * 0.5  # Adjust modulation depth as needed\n",
    "\n",
    "# CRC coding\n",
    "crc32 = crcmod.predefined.mkCrcFun('crc-32')\n",
    "crc_value = crc32(modulated_signal.tobytes())\n",
    "crc_array = np.frombuffer(crc_value.to_bytes(4, byteorder='big'), dtype=np.int16)\n",
    "modulated_signal = np.concatenate((modulated_signal, crc_array))\n",
    "\n",
    "# Sauvegarder l'enregistrement audio modulé avec CRC dans un fichier WAV\n",
    "nom_fichier_sortie = \"enregistrement_module_ask_crc.wav\"\n",
    "write(nom_fichier_sortie, freq_echantillonnage, modulated_signal)\n",
    "\n",
    "print(f\"L'enregistrement modulé avec CRC a été sauvegardé dans {nom_fichier_sortie}\")\n",
    "\n",
    "# Lecture de l'enregistrement modulé avec CRC\n",
    "print(\"Lecture de l'enregistrement modulé avec CRC...\")\n",
    "sd.play(modulated_signal, freq_echantillonnage)\n",
    "sd.wait()  # Attendre la fin de la lecture\n",
    "print(\"Lecture terminée. Vous pouvez écouter l'enregistrement modulé avec CRC.\")\n"
   ]
  },
  {
   "cell_type": "code",
   "execution_count": 4,
   "id": "8138524d-0ff9-43c5-aea4-a9710586437f",
   "metadata": {},
   "outputs": [
    {
     "name": "stdout",
     "output_type": "stream",
     "text": [
      "L'enregistrement audio démodulé avec ASK a été sauvegardé dans enregistrement_demodule_ask.wav\n",
      "Lecture de l'enregistrement audio démodulé avec ASK...\n",
      "Lecture terminée. Vous pouvez écouter l'enregistrement audio démodulé avec ASK.\n"
     ]
    }
   ],
   "source": [
    "import numpy as np\n",
    "from scipy.io.wavfile import read, write\n",
    "import sounddevice as sd\n",
    "\n",
    "# Charger l'enregistrement audio modulé avec ASK depuis le fichier WAV\n",
    "nom_fichier_entree_modulated = \"enregistrement_module_ask_crc.wav\"  # Corrected filename\n",
    "freq_echantillonnage_modulated, modulated_signal = read(nom_fichier_entree_modulated)\n",
    "\n",
    "# Demodulation ASK\n",
    "demodulation_depth = 0.5  # Modify as needed\n",
    "demodulated_signal = modulated_signal / demodulation_depth\n",
    "\n",
    "# Sauvegarder l'enregistrement audio démodulé avec ASK dans un fichier WAV\n",
    "nom_fichier_sortie_demodulated_ask = \"enregistrement_demodule_ask.wav\"\n",
    "write(nom_fichier_sortie_demodulated_ask, freq_echantillonnage_modulated, demodulated_signal.astype(np.int16))\n",
    "\n",
    "print(f\"L'enregistrement audio démodulé avec ASK a été sauvegardé dans {nom_fichier_sortie_demodulated_ask}\")\n",
    "\n",
    "# Lecture de l'enregistrement audio démodulé avec ASK\n",
    "print(\"Lecture de l'enregistrement audio démodulé avec ASK...\")\n",
    "sd.play(demodulated_signal, freq_echantillonnage_modulated)\n",
    "sd.wait()  # Attendre la fin de la lecture\n",
    "print(\"Lecture terminée. Vous pouvez écouter l'enregistrement audio démodulé avec ASK.\")\n"
   ]
  },
  {
   "cell_type": "code",
   "execution_count": 6,
   "id": "26281057-0625-4e9d-95d4-bf7db458dec6",
   "metadata": {},
   "outputs": [
    {
     "name": "stdout",
     "output_type": "stream",
     "text": [
      "L'enregistrement audio démodulé sans CRC a été sauvegardé dans enregistrement_demodule_ask_without_crc.wav\n",
      "Lecture de l'enregistrement audio démodulé sans CRC...\n",
      "Lecture terminée. Vous pouvez écouter l'enregistrement audio démodulé sans CRC.\n"
     ]
    }
   ],
   "source": [
    "import numpy as np\n",
    "from scipy.io.wavfile import read, write\n",
    "import sounddevice as sd\n",
    "\n",
    "# Charger l'enregistrement audio démodulé avec ASK depuis le fichier WAV\n",
    "nom_fichier_entree_demodulated_ask = \"enregistrement_demodule_ask.wav\"\n",
    "freq_echantillonnage_demodulated_ask, demodulated_signal_ask = read(nom_fichier_entree_demodulated_ask)\n",
    "\n",
    "# Simulate attack by removing CRC (assuming CRC is at the end of the signal)\n",
    "demodulated_signal_without_crc = demodulated_signal_ask[:-4]\n",
    "\n",
    "# Sauvegarder l'enregistrement audio démodulé sans CRC dans un fichier WAV\n",
    "nom_fichier_sortie_demodulated_without_crc = \"enregistrement_demodule_ask_without_crc.wav\"\n",
    "write(nom_fichier_sortie_demodulated_without_crc, freq_echantillonnage_demodulated_ask, demodulated_signal_without_crc.astype(np.int16))\n",
    "\n",
    "print(f\"L'enregistrement audio démodulé sans CRC a été sauvegardé dans {nom_fichier_sortie_demodulated_without_crc}\")\n",
    "\n",
    "# Lecture de l'enregistrement audio démodulé sans CRC\n",
    "print(\"Lecture de l'enregistrement audio démodulé sans CRC...\")\n",
    "sd.play(demodulated_signal_without_crc, freq_echantillonnage_demodulated_ask)\n",
    "sd.wait()  # Attendre la fin de la lecture\n",
    "print(\"Lecture terminée. Vous pouvez écouter l'enregistrement audio démodulé sans CRC.\")\n"
   ]
  },
  {
   "cell_type": "code",
   "execution_count": null,
   "id": "4b27ba25-851d-43a4-8f8c-b151a9e7bd75",
   "metadata": {},
   "outputs": [],
   "source": []
  }
 ],
 "metadata": {
  "kernelspec": {
   "display_name": "Python 3 (ipykernel)",
   "language": "python",
   "name": "python3"
  },
  "language_info": {
   "codemirror_mode": {
    "name": "ipython",
    "version": 3
   },
   "file_extension": ".py",
   "mimetype": "text/x-python",
   "name": "python",
   "nbconvert_exporter": "python",
   "pygments_lexer": "ipython3",
   "version": "3.11.6"
  }
 },
 "nbformat": 4,
 "nbformat_minor": 5
}
